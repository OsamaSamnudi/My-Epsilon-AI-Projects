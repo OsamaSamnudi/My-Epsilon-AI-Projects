{
 "cells": [
  {
   "cell_type": "markdown",
   "id": "85f35e2f",
   "metadata": {},
   "source": [
    "## Power Password Creator Project :\n",
    "* Get input from user with total charcters with minimum 10 characters accepted.\n",
    "* Collect alpha (upper,lower) , digit , punctuation into varaibles.\n",
    "* Check if input is integer or not and alert user if not int.\n",
    "* Collect the passowrd shuffling per input count as 30% Upper , 30% Lower , 20% Digits , 20% puctates.\n",
    "* Shuffle & Join the final passowrd"
   ]
  },
  {
   "cell_type": "code",
   "execution_count": 1,
   "id": "bb3cb804",
   "metadata": {},
   "outputs": [],
   "source": [
    "def Power_Password_1():\n",
    "    # Impoer Libraries\n",
    "    import random\n",
    "    import string\n",
    "    \n",
    "    # Collect alpha (upper,lower) , digit , punctuation into varaibles.\n",
    "    UPPER = list(string.ascii_uppercase)\n",
    "    LOWER = list(string.ascii_lowercase)\n",
    "    DIGITS = list(string.digits)\n",
    "    PUNCTUATE = list(string.punctuation)\n",
    "\n",
    "    # Check Input\n",
    "    Usr_Inpt = input('Enter characters count\\nMinimum characters is 10 : \\n')\n",
    "    while True:\n",
    "        try:\n",
    "            Usr_Inpt = int(Usr_Inpt)\n",
    "            if Usr_Inpt <10:\n",
    "                print('Characters count must me greater than 9.\\n')\n",
    "                Usr_Inpt = input('Enter 10 as Minimum : \\n')\n",
    "            else:\n",
    "                break\n",
    "        except:\n",
    "            print('Enter Numbers not Words')\n",
    "            Usr_Inpt = input('Enter a NUMBER 10 as Minimum : \\n')\n",
    "\n",
    "    # Distribute characters\n",
    "    Pass_part1 = list(map(lambda x : random.choice(UPPER),range(round(Usr_Inpt*(30/100)))))\n",
    "    Pass_part2 = list(map(lambda x : random.choice(LOWER),range(round(Usr_Inpt*(30/100)))))\n",
    "    Pass_part3 = list(map(lambda x : random.choice(DIGITS),range(round(Usr_Inpt*(20/100)))))\n",
    "    Pass_part4 = list(map(lambda x : random.choice(PUNCTUATE),range(round(Usr_Inpt*(20/100)))))\n",
    "    \n",
    "    # Create Power Password\n",
    "    Final_Pass = list(Pass_part1+Pass_part2+Pass_part3+Pass_part4)\n",
    "    random.shuffle(Final_Pass)\n",
    "    Final_Pass = ''.join(Final_Pass)\n",
    "    return Final_Pass"
   ]
  },
  {
   "cell_type": "code",
   "execution_count": 2,
   "id": "8dea5c9d",
   "metadata": {},
   "outputs": [
    {
     "data": {
      "text/plain": [
       "'\\\\mBca.5MwFrdu0\\\\=28V>JG5T'"
      ]
     },
     "execution_count": 2,
     "metadata": {},
     "output_type": "execute_result"
    }
   ],
   "source": [
    "Power_Password_1()"
   ]
  }
 ],
 "metadata": {
  "kernelspec": {
   "display_name": "Python 3 (ipykernel)",
   "language": "python",
   "name": "python3"
  },
  "language_info": {
   "codemirror_mode": {
    "name": "ipython",
    "version": 3
   },
   "file_extension": ".py",
   "mimetype": "text/x-python",
   "name": "python",
   "nbconvert_exporter": "python",
   "pygments_lexer": "ipython3",
   "version": "3.9.13"
  }
 },
 "nbformat": 4,
 "nbformat_minor": 5
}
