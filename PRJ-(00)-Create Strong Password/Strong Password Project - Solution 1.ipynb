{
 "cells": [
  {
   "cell_type": "markdown",
   "id": "85f35e2f",
   "metadata": {},
   "source": [
    "## Power Password Creator Project :\n",
    "* Get input from user with total charcters with minimum 10 characters accepted.\n",
    "* Collect alpha (upper,lower) , digit , punctuation into varaibles.\n",
    "* Check if input is integer or not and alert user if not int.\n",
    "* Collect the passowrd shuffling per input count as 30% Upper , 30% Lower , 20% Digits , 20% puctates.\n",
    "* Shuffle & Join the final passowrd"
   ]
  },
  {
   "cell_type": "code",
   "execution_count": 2,
   "id": "096fa3db",
   "metadata": {},
   "outputs": [
    {
     "data": {
      "text/html": [
       "<style>.container { width:95% !important; }</style>"
      ],
      "text/plain": [
       "<IPython.core.display.HTML object>"
      ]
     },
     "metadata": {},
     "output_type": "display_data"
    }
   ],
   "source": [
    "from IPython.display import display, HTML\n",
    "display(HTML(\"<style>.container { width:95% !important; }</style>\"))"
   ]
  },
  {
   "cell_type": "code",
   "execution_count": 154,
   "id": "752206a1",
   "metadata": {},
   "outputs": [],
   "source": [
    "def Power_Password():\n",
    "    # Impoer Libraries\n",
    "    import string\n",
    "    import random\n",
    "    \n",
    "    # Check Input\n",
    "    usr_inpt = input('How many characters do you want for the password \\nPlease enter at least 10 : ')\n",
    "    while True:\n",
    "        try:\n",
    "            usr_inpt = int(usr_inpt)\n",
    "            if usr_inpt < 10 :\n",
    "                print('Characters count must be at least 10 : ')\n",
    "                usr_inpt = input('Please enter at least 10 :')\n",
    "            else:\n",
    "                break\n",
    "        except:\n",
    "            print('Characters count must be numbers : ')\n",
    "            usr_inpt = input('Please enter a numbers : ')\n",
    "    \n",
    "    # Collect alpha (upper,lower) , digit , punctuation into varaibles.\n",
    "    Lower = list(string.ascii_lowercase)\n",
    "    Upper = list(string.ascii_uppercase)\n",
    "    Digit = list(string.digits)\n",
    "    Other = list(string.punctuation)\n",
    "\n",
    "    # Shuffle characters :\n",
    "    random.shuffle(Lower)\n",
    "    random.shuffle(Upper)\n",
    "    random.shuffle(Digit)\n",
    "    random.shuffle(Other)\n",
    "    \n",
    "    # Distribute characters\n",
    "    part_1 = round(usr_inpt*(30/100))\n",
    "    part_2 = round(usr_inpt*(20/100))\n",
    "    \n",
    "    # Create Power Password\n",
    "    passowrd = []\n",
    "    for i in range(part_1):\n",
    "        passowrd.append(Upper[i])\n",
    "        passowrd.append(Lower[i])\n",
    "\n",
    "    for i in range(part_2):\n",
    "        passowrd.append(Digit[i])\n",
    "        passowrd.append(Other[i])\n",
    "        \n",
    "    random.shuffle(passowrd)   \n",
    "    Final_Passowrd = ''.join(passowrd)\n",
    "    return Final_Passowrd"
   ]
  },
  {
   "cell_type": "code",
   "execution_count": 155,
   "id": "3fcdc5ef",
   "metadata": {},
   "outputs": [
    {
     "name": "stdout",
     "output_type": "stream",
     "text": [
      "How many characters do you want for the password \n",
      "Please enter at least 10 : 12\n"
     ]
    },
    {
     "data": {
      "text/plain": [
       "')Z8QA9b*zLch'"
      ]
     },
     "execution_count": 155,
     "metadata": {},
     "output_type": "execute_result"
    }
   ],
   "source": [
    "Power_Password()"
   ]
  }
 ],
 "metadata": {
  "kernelspec": {
   "display_name": "Python 3 (ipykernel)",
   "language": "python",
   "name": "python3"
  },
  "language_info": {
   "codemirror_mode": {
    "name": "ipython",
    "version": 3
   },
   "file_extension": ".py",
   "mimetype": "text/x-python",
   "name": "python",
   "nbconvert_exporter": "python",
   "pygments_lexer": "ipython3",
   "version": "3.9.13"
  }
 },
 "nbformat": 4,
 "nbformat_minor": 5
}
