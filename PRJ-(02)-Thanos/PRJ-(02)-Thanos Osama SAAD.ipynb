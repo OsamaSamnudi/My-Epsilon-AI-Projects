{
 "cells": [
  {
   "cell_type": "code",
   "execution_count": 1,
   "id": "db875057",
   "metadata": {},
   "outputs": [
    {
     "data": {
      "text/html": [
       "<style>.container { width:100% !important; }</style>"
      ],
      "text/plain": [
       "<IPython.core.display.HTML object>"
      ]
     },
     "metadata": {},
     "output_type": "display_data"
    }
   ],
   "source": [
    "from IPython.display import display, HTML\n",
    "display(HTML(\"<style>.container { width:100% !important; }</style>\"))"
   ]
  },
  {
   "cell_type": "markdown",
   "id": "d0ffdcef",
   "metadata": {
    "id": "C468qUNtANW8"
   },
   "source": [
    "<img src=\"thanos.jpg\">"
   ]
  },
  {
   "cell_type": "markdown",
   "id": "56f97235",
   "metadata": {},
   "source": [
    "- you are required to destroy randomly (delete) half of the files in the \"universe\" directory \n",
    "- sanity check: check on the number of files in the \"universe\" folder before and after runnign the code"
   ]
  },
  {
   "cell_type": "code",
   "execution_count": 1,
   "id": "8d5e70ee",
   "metadata": {
    "id": "VZAENSTqANXE"
   },
   "outputs": [],
   "source": [
    "import os\n",
    "import random\n",
    "import time"
   ]
  },
  {
   "cell_type": "code",
   "execution_count": 50,
   "id": "0954e3a8",
   "metadata": {},
   "outputs": [],
   "source": [
    "img_path = \"D:\\\\Data Science\\\\ML_Epslion\\Sessions\\\\07-25-03-2023 Python (More Builtin Finctions) - Project 2,3\\\\universe\"\n",
    "img_lst = os.listdir(img_path)"
   ]
  },
  {
   "cell_type": "code",
   "execution_count": 3,
   "id": "6bca4b8f",
   "metadata": {},
   "outputs": [],
   "source": [
    "def remove_half(img_path):\n",
    "    os.chdir(img_path)\n",
    "    img_lst = os.listdir(img_path)\n",
    "    lst_len = len(img_lst)\n",
    "    random.seed(lst_len)\n",
    "    random_imgs = random.choices(img_lst, k=int(lst_len/2))\n",
    "    sample_img = random.sample(img_lst,k=int(lst_len/2))\n",
    "    for i in sample_img:\n",
    "        os.remove(i)\n",
    "    return print(f'Deleted {len(sample_img)} files')"
   ]
  },
  {
   "cell_type": "code",
   "execution_count": 95,
   "id": "108665bc",
   "metadata": {},
   "outputs": [
    {
     "name": "stdout",
     "output_type": "stream",
     "text": [
      "Deleted 6 files\n"
     ]
    }
   ],
   "source": [
    "remove_half(img_path)"
   ]
  }
 ],
 "metadata": {
  "kernelspec": {
   "display_name": "Python 3 (ipykernel)",
   "language": "python",
   "name": "python3"
  },
  "language_info": {
   "codemirror_mode": {
    "name": "ipython",
    "version": 3
   },
   "file_extension": ".py",
   "mimetype": "text/x-python",
   "name": "python",
   "nbconvert_exporter": "python",
   "pygments_lexer": "ipython3",
   "version": "3.9.13"
  }
 },
 "nbformat": 4,
 "nbformat_minor": 5
}
