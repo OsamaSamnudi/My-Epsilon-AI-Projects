{
 "cells": [
  {
   "cell_type": "code",
   "execution_count": 1,
   "id": "580c3f3b",
   "metadata": {},
   "outputs": [
    {
     "data": {
      "text/html": [
       "<style>.container { width:100% !important; }</style>"
      ],
      "text/plain": [
       "<IPython.core.display.HTML object>"
      ]
     },
     "metadata": {},
     "output_type": "display_data"
    }
   ],
   "source": [
    "from IPython.display import display, HTML\n",
    "display(HTML(\"<style>.container { width:100% !important; }</style>\"))"
   ]
  },
  {
   "cell_type": "markdown",
   "id": "910f87f8",
   "metadata": {
    "id": "a0lfLZx5kjuO"
   },
   "source": [
    "![image.png](attachment:image.png)"
   ]
  },
  {
   "cell_type": "markdown",
   "id": "e5faacbb",
   "metadata": {
    "id": "1YWE7rZPkjuR"
   },
   "source": [
    "## Description\n",
    "> ##### The Hangman program randomly selects a secret word from a list of secret words.\n",
    "> ##### The Game: Here, a random word (a fruit name) is picked up from our collection and the player gets limited chances to win the game.\n",
    "> ##### When a letter in that word is guessed correctly, that letter position in the word is made visible. In this way,all letters of the word are to be guessed before all the chances are over.\n",
    "> ##### For convenience, we have given length of word + 2 chances. For example, word to be guessed is mango, then user gets 5 + 2 = 7 chances, as mango is a five letter word."
   ]
  },
  {
   "cell_type": "code",
   "execution_count": 3,
   "id": "828f84bb",
   "metadata": {},
   "outputs": [],
   "source": [
    "# Words to play on \n",
    "someWords = '''apple banana mango strawberry orange grape pineapple apricot lemon coconut watermelon cherry papaya berry peach lychee muskmelon'''"
   ]
  },
  {
   "cell_type": "code",
   "execution_count": 4,
   "id": "a479edc0",
   "metadata": {},
   "outputs": [],
   "source": [
    "def guess(nam):\n",
    "    import random\n",
    "    # Random word str handling :\n",
    "    nam = someWords.split(' ')\n",
    "    nam = random.choice(nam).replace(' ','')\n",
    "    # Get the indexing\n",
    "    en_nam = list(v for k,v in enumerate(nam))\n",
    "    # Temp list that collcet the user input & display the rest Character as '_' then join all \n",
    "    temp_lst = list('_'*len(nam))\n",
    "    join_lst = ''.join(temp_lst)\n",
    "    # count tries number to control end game rules\n",
    "    # guessed set() to insure that no duplicate in entries with penalty the wrong one\n",
    "    try_num = 1\n",
    "    allowed_tries = 6\n",
    "    guessed=set()\n",
    "    # Welcome starting message explaining the game rules\n",
    "    started_mesg = f\"\"\"Welcome to HANGMAN GAME\\nComputer will Choice Random Fruit word and will display the first character only\\nAnd you will guess the rest\\nGame role:\\nYou have {allowed_tries} times for incorrect answers\\nNo Duplicate allowed\"\"\"\n",
    "    if try_num==1:\n",
    "        print(started_mesg)\n",
    "        print(f'first character is : {nam[0]} total characters is : {len(nam)}\\n','-'*50)\n",
    "        while join_lst != nam:\n",
    "            usr_inpt = input().lower()\n",
    "            if try_num<5:\n",
    "                if usr_inpt in guessed:\n",
    "                    print(f'Duplicate guess,Remaining guess : {allowed_tries-try_num}')\n",
    "                    try_num+=1\n",
    "                elif usr_inpt in en_nam:\n",
    "                    dup_indx = [i for i, x in enumerate(en_nam) if x == usr_inpt]\n",
    "                    for idx in dup_indx:\n",
    "                        temp_lst[idx] = nam[idx]\n",
    "                    join_lst = ''.join(temp_lst)\n",
    "                    guessed.add(usr_inpt)\n",
    "                    print(join_lst)\n",
    "                else:\n",
    "                    print(f'Wrong guess,Remaining guess : {allowed_tries-try_num}')\n",
    "                    try_num+=1\n",
    "                    print(join_lst)\n",
    "            else:\n",
    "                print('game over')\n",
    "                print('the guess is : ',nam)\n",
    "                break\n",
    "        else:\n",
    "            print('>>>>>> YOU WIN! <<<<<<')\n",
    "    return join_lst"
   ]
  },
  {
   "cell_type": "code",
   "execution_count": 6,
   "id": "5b1a2679",
   "metadata": {},
   "outputs": [
    {
     "name": "stdout",
     "output_type": "stream",
     "text": [
      "Welcome to HANGMAN GAME\n",
      "Computer will Choice Random Fruit word and will display the first character only\n",
      "And you will guess the rest\n",
      "Game role:\n",
      "You have 6 times for incorrect answers\n",
      "No Duplicate allowed\n",
      "first character is : g total characters is : 5\n",
      " --------------------------------------------------\n",
      "g\n",
      "g____\n",
      "r\n",
      "gr___\n",
      "a\n",
      "gra__\n",
      "p\n",
      "grap_\n",
      "e\n",
      "grape\n",
      ">>>>>> YOU WIN! <<<<<<\n"
     ]
    },
    {
     "data": {
      "text/plain": [
       "'grape'"
      ]
     },
     "execution_count": 6,
     "metadata": {},
     "output_type": "execute_result"
    }
   ],
   "source": [
    "guess(someWords)"
   ]
  },
  {
   "cell_type": "code",
   "execution_count": null,
   "id": "3632011f",
   "metadata": {},
   "outputs": [],
   "source": []
  }
 ],
 "metadata": {
  "kernelspec": {
   "display_name": "Python 3 (ipykernel)",
   "language": "python",
   "name": "python3"
  },
  "language_info": {
   "codemirror_mode": {
    "name": "ipython",
    "version": 3
   },
   "file_extension": ".py",
   "mimetype": "text/x-python",
   "name": "python",
   "nbconvert_exporter": "python",
   "pygments_lexer": "ipython3",
   "version": "3.9.13"
  }
 },
 "nbformat": 4,
 "nbformat_minor": 5
}
