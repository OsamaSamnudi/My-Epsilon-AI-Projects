{
 "cells": [
  {
   "cell_type": "code",
   "execution_count": 235,
   "metadata": {},
   "outputs": [
    {
     "data": {
      "text/html": [
       "<style>.container { width:100% !important; }</style>"
      ],
      "text/plain": [
       "<IPython.core.display.HTML object>"
      ]
     },
     "metadata": {},
     "output_type": "display_data"
    }
   ],
   "source": [
    "from IPython.display import display, HTML\n",
    "display(HTML(\"<style>.container { width:100% !important; }</style>\"))"
   ]
  },
  {
   "cell_type": "markdown",
   "metadata": {
    "id": "oHuO6uJklj2l"
   },
   "source": [
    "![1_8du96SQUQ0NlWmWvVu20Zw.png](attachment:1_8du96SQUQ0NlWmWvVu20Zw.png)"
   ]
  },
  {
   "cell_type": "markdown",
   "metadata": {
    "id": "SBAswFV9lj2p"
   },
   "source": [
    "### Description \n",
    "> #### In this game, the user gets the first chance to pick the option among Rock, paper and scissors. After that computer select from the remaining two choices(randomly), the winner is decided as per the rules.\n",
    "- Rock vs paper-> paper wins\n",
    "- Rock vs scissor-> Rock wins\n",
    "- paper vs scissor-> scissor wins."
   ]
  },
  {
   "cell_type": "code",
   "execution_count": 6,
   "metadata": {},
   "outputs": [],
   "source": [
    "import random"
   ]
  },
  {
   "cell_type": "code",
   "execution_count": 5,
   "metadata": {
    "id": "FT1MTUtklj2q"
   },
   "outputs": [
    {
     "name": "stdout",
     "output_type": "stream",
     "text": [
      "Winning Rules of the Rock paper scissor game as follows: \n",
      "Rock vs paper->paper wins \n",
      "Rock vs scissor->Rock wins \n",
      "paper vs scissor->scissor wins \n",
      "\n"
     ]
    }
   ],
   "source": [
    "# Print multiline instruction\n",
    "# performstring concatenation of string\n",
    "print(\"Winning Rules of the Rock paper scissor game as follows: \\n\"\n",
    "                                +\"Rock vs paper->paper wins \\n\"\n",
    "                                + \"Rock vs scissor->Rock wins \\n\"\n",
    "                                +\"paper vs scissor->scissor wins \\n\")\n"
   ]
  },
  {
   "cell_type": "code",
   "execution_count": 43,
   "metadata": {},
   "outputs": [],
   "source": [
    "# Game Rules Function :\n",
    "import random\n",
    "\n",
    "game_choices = ['rock','paper','scissor']\n",
    "game_start_message = \"Hello ; Wellcome to (ROCK PAPER SCISSOR GAME)\\nBelow is the Rules:\\n1) Game is 3 Rounds per time\\n2) Rock vs paper >> PAPER WINS! <<\\n3) Rock vs scissor >> ROCK WINS! <<\\n4) paper vs scissor >> SCISSOR WINS! <<\\n\"\n",
    "\n",
    "computer_score = 0\n",
    "user_score = 0\n",
    "game_rounds = 0\n",
    "\n",
    "def game_rules(user_choice,computer_choice):\n",
    "    global computer_score\n",
    "    global user_score\n",
    "    global game_rounds\n",
    "    if user_choice==computer_choice: # in TIE \n",
    "            computer_score+=0\n",
    "            user_score+=0\n",
    "            game_rounds+=1\n",
    "            print(f'Round {game_rounds} of 3')\n",
    "            print(f'>> Tie <<: (YOU {user_score}) vs (COMPUTER {computer_score})')\n",
    "            print(f'(YOU : {user_choice}) and (COMPUTER : {computer_choice})')\n",
    "            print(\"==\"*25)\n",
    "\n",
    "    elif user_choice=='rock': # IN ROCK\n",
    "        if computer_choice=='paper':\n",
    "            computer_score+=1\n",
    "            game_rounds+=1\n",
    "            print(f'Round {game_rounds} of 3')\n",
    "            print(f'>> PAPER WIN!<<\\n(YOU : {user_choice}) & (COMPUTER : {computer_choice})')\n",
    "            print(f'COMPUTER WINS 1 Point\\nScore is : (YOU {user_score}) vs (COMPUTER {computer_score})')\n",
    "            print(\"==\"*25)\n",
    "        else:\n",
    "            user_score+=1\n",
    "            game_rounds+=1\n",
    "            print(f'Round {game_rounds} of 3')\n",
    "            print(f'>> ROCK WIN!<<\\n(YOU : {user_choice}) and (COMPUTER : {computer_choice})')\n",
    "            print(f'YOU WINS 1 Point\\nScore is : (YOU {user_score}) vs (COMPUTER {computer_score})')\n",
    "            print(\"==\"*25)\n",
    "\n",
    "    elif user_choice=='paper': # IN PAPER\n",
    "        if computer_choice=='rock':\n",
    "            user_score+=1\n",
    "            game_rounds+=1\n",
    "            print(f'Round {game_rounds} of 3')\n",
    "            print(f'>> PAPER WIN!<<\\n(YOU : {user_choice}) and (COMPUTER : {computer_choice})')\n",
    "            print(f'YOU WINS 1 Point\\nScore is : (YOU {user_score}) vs (COMPUTER {computer_score})')\n",
    "            print(\"==\"*25)\n",
    "        else:\n",
    "            computer_score+=1\n",
    "            game_rounds+=1\n",
    "            print(f'Round {game_rounds} of 3')\n",
    "            print(f'>> SCISSOR WIN!<<\\n(YOU : {user_choice}) and (COMPUTER : {computer_choice})')\n",
    "            print(f'COMPUTER WINS 1 Point\\nScore is : (YOU {user_score}) vs (COMPUTER {computer_score})')\n",
    "            print(\"==\"*25)\n",
    "\n",
    "    elif user_choice=='scissor': # IN SCISSOR \n",
    "        if computer_choice=='rock':\n",
    "            computer_score+=1\n",
    "            game_rounds+=1\n",
    "            print(f'Round {game_rounds} of 3')\n",
    "            print(f'>> ROCK WIN!<<\\n(YOU : {user_choice}) and (COMPUTER : {computer_choice})')\n",
    "            print(f'COMPUTER WINS 1 Point\\nScore is : (YOU {user_score}) vs (COMPUTER {computer_score})')\n",
    "            print(\"==\"*25)\n",
    "        else:\n",
    "            user_score+=1\n",
    "            game_rounds+=1\n",
    "            print(f'Round {game_rounds} of 3')\n",
    "            print(f'>> scissor WIN!<<\\n(YOU : {user_choice}) and (COMPUTER : {computer_choice})')\n",
    "            print(f'YOU WINS 1 Point\\nScore is : (YOU {user_score}) vs (COMPUTER {computer_score})')\n",
    "            print(\"==\"*25)"
   ]
  },
  {
   "cell_type": "code",
   "execution_count": 44,
   "metadata": {},
   "outputs": [
    {
     "name": "stdout",
     "output_type": "stream",
     "text": [
      "Hello ; Wellcome to (ROCK PAPER SCISSOR GAME)\n",
      "Below is the Rules:\n",
      "1) Game is 3 Rounds per time\n",
      "2) Rock vs paper >> PAPER WINS! <<\n",
      "3) Rock vs scissor >> ROCK WINS! <<\n",
      "4) paper vs scissor >> SCISSOR WINS! <<\n",
      "\n",
      "--------------------------------------------------\n",
      "please select from :\n",
      "['rock', 'paper', 'scissor']\n",
      "paper\n",
      "Round 1 of 3\n",
      ">> PAPER WIN!<<\n",
      "(YOU : paper) and (COMPUTER : rock)\n",
      "YOU WINS 1 Point\n",
      "Score is : (YOU 1) vs (COMPUTER 0)\n",
      "==================================================\n",
      "please select from :\n",
      "['rock', 'paper', 'scissor']\n",
      "paper\n",
      "Round 2 of 3\n",
      ">> SCISSOR WIN!<<\n",
      "(YOU : paper) and (COMPUTER : scissor)\n",
      "COMPUTER WINS 1 Point\n",
      "Score is : (YOU 1) vs (COMPUTER 1)\n",
      "==================================================\n",
      "please select from :\n",
      "['rock', 'paper', 'scissor']\n",
      "paper\n",
      "Round 3 of 3\n",
      ">> SCISSOR WIN!<<\n",
      "(YOU : paper) and (COMPUTER : scissor)\n",
      "COMPUTER WINS 1 Point\n",
      "Score is : (YOU 1) vs (COMPUTER 2)\n",
      "==================================================\n",
      ">> COMPUTER WIN! <<\n",
      "Score is : (YOU 1) vs (COMPUTER 2)\n"
     ]
    }
   ],
   "source": [
    "while True:\n",
    "    if game_rounds==0:\n",
    "        print(game_start_message)\n",
    "        print(\"--\"*25)\n",
    "    elif game_rounds==3:\n",
    "        if user_score>computer_score:\n",
    "            print(f\">> YOU WIN! <<\\nScore is : (YOU {user_score}) vs (COMPUTER {computer_score})\")\n",
    "            break\n",
    "        else:\n",
    "            print(f\">> COMPUTER WIN! <<\\nScore is : (YOU {user_score}) vs (COMPUTER {computer_score})\")\n",
    "            break\n",
    "    user_choice = input(f'please select from :\\n{game_choices}\\n').lower()\n",
    "    computer_choice = random.choice(game_choices)\n",
    "    if user_choice not in game_choices:\n",
    "        print('WRONG SELECTION')\n",
    "    else:\n",
    "        game_rules(user_choice,computer_choice)"
   ]
  }
 ],
 "metadata": {
  "colab": {
   "provenance": []
  },
  "kernelspec": {
   "display_name": "Python 3 (ipykernel)",
   "language": "python",
   "name": "python3"
  },
  "language_info": {
   "codemirror_mode": {
    "name": "ipython",
    "version": 3
   },
   "file_extension": ".py",
   "mimetype": "text/x-python",
   "name": "python",
   "nbconvert_exporter": "python",
   "pygments_lexer": "ipython3",
   "version": "3.9.13"
  }
 },
 "nbformat": 4,
 "nbformat_minor": 1
}
